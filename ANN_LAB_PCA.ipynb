{
  "nbformat": 4,
  "nbformat_minor": 0,
  "metadata": {
    "colab": {
      "name": "ANN_LAB_PCA.ipynb",
      "provenance": []
    },
    "kernelspec": {
      "name": "python3",
      "display_name": "Python 3"
    },
    "language_info": {
      "name": "python"
    }
  },
  "cells": [
    {
      "cell_type": "code",
      "metadata": {
        "id": "8miID2UcvL8A"
      },
      "source": [
        "#!pip install --upgrade tensorflow==1.15"
      ],
      "execution_count": 1,
      "outputs": []
    },
    {
      "cell_type": "markdown",
      "metadata": {
        "id": "6vtwMBg06TkQ"
      },
      "source": [
        "## TANPA LIBRARY **PCA**"
      ]
    },
    {
      "cell_type": "code",
      "metadata": {
        "id": "ky9dnXGFvbOs"
      },
      "source": [
        "from scipy.io import loadmat\n",
        "import numpy as np\n",
        "import tensorflow as tf\n",
        "import matplotlib.pyplot as plt"
      ],
      "execution_count": 2,
      "outputs": []
    },
    {
      "cell_type": "code",
      "metadata": {
        "id": "3ndaKIHjv9Rr"
      },
      "source": [
        "def load_dataset():\n",
        "  dataset = loadmat('olivettifaces.mat')\n",
        "  images = dataset['faces']\n",
        "  #Default (4096 X 400) -> (pixels X image)\n",
        "  face_images = np.transpose(images)\n",
        "  #transpose (400 X 4096) -> (image X pixels)\n",
        "\n",
        "  return face_images.astype(float), face_images"
      ],
      "execution_count": 3,
      "outputs": []
    },
    {
      "cell_type": "code",
      "metadata": {
        "id": "zwGUkqguxU0b"
      },
      "source": [
        "dataset, original = load_dataset()"
      ],
      "execution_count": 4,
      "outputs": []
    },
    {
      "cell_type": "code",
      "metadata": {
        "id": "2o1s_9euxYnJ"
      },
      "source": [
        "def calculate_mean(dataset):\n",
        "  return tf.reduce_mean(dataset,axis=0)"
      ],
      "execution_count": 5,
      "outputs": []
    },
    {
      "cell_type": "code",
      "metadata": {
        "id": "IQy1Y0zWyVhq"
      },
      "source": [
        "mean = calculate_mean(dataset)"
      ],
      "execution_count": 6,
      "outputs": []
    },
    {
      "cell_type": "code",
      "metadata": {
        "id": "-lTztD-dyqMS"
      },
      "source": [
        "def normalized_dataset(dataset, mean):\n",
        "  return dataset - mean"
      ],
      "execution_count": 7,
      "outputs": []
    },
    {
      "cell_type": "code",
      "metadata": {
        "id": "cjY-FtjVy8K5"
      },
      "source": [
        "dataset = normalized_dataset(dataset,mean)"
      ],
      "execution_count": 8,
      "outputs": []
    },
    {
      "cell_type": "code",
      "metadata": {
        "id": "K9EbXw1KzKyg"
      },
      "source": [
        "def calculate_covariance(dataset):\n",
        "  # A*A Transpose\n",
        "  return tf.matmul(dataset , tf.transpose(dataset))"
      ],
      "execution_count": 9,
      "outputs": []
    },
    {
      "cell_type": "code",
      "metadata": {
        "id": "KBP6Zk810Pi5"
      },
      "source": [
        "covariance = calculate_covariance(dataset)"
      ],
      "execution_count": 10,
      "outputs": []
    },
    {
      "cell_type": "code",
      "metadata": {
        "id": "3wVZZhfx0yr5"
      },
      "source": [
        "def calculate_eigen_vector(covariance):\n",
        "  eigen_value, eigen_vector = tf.raw_ops.SelfAdjointEigV2(input=covariance)\n",
        "  return tf.reverse(eigen_vector, [1])"
      ],
      "execution_count": 11,
      "outputs": []
    },
    {
      "cell_type": "code",
      "metadata": {
        "id": "oBXawWK93XKh"
      },
      "source": [
        "eigen_vector = calculate_eigen_vector(covariance)"
      ],
      "execution_count": 12,
      "outputs": []
    },
    {
      "cell_type": "code",
      "metadata": {
        "id": "VPY1aF-K3chK"
      },
      "source": [
        "def calculate_eigen_faces(dataset, eigen_vector):\n",
        "  # A Transpose * eigen_vector\n",
        "  eigen_faces = tf.matmul(tf.transpose(dataset), eigen_vector)\n",
        "  return tf.transpose(eigen_faces)"
      ],
      "execution_count": 13,
      "outputs": []
    },
    {
      "cell_type": "code",
      "metadata": {
        "id": "sTcs1NGu32sx"
      },
      "source": [
        "eigen_faces = calculate_eigen_faces(dataset, eigen_vector)"
      ],
      "execution_count": 14,
      "outputs": []
    },
    {
      "cell_type": "code",
      "metadata": {
        "id": "_Eq92zk23-8Y"
      },
      "source": [
        "def show_image(image):\n",
        "  #(,4096) -> 64 X 64\n",
        "  reshaped_images = image.reshape(64,64)\n",
        "  plt.imshow(reshaped_images)\n",
        "  plt.show()"
      ],
      "execution_count": 15,
      "outputs": []
    },
    {
      "cell_type": "code",
      "metadata": {
        "colab": {
          "base_uri": "https://localhost:8080/",
          "height": 519
        },
        "id": "NItmsm5w5Pqz",
        "outputId": "a95dfab9-7af5-47eb-b7bc-0ddb16a443a6"
      },
      "source": [
        "with tf.Session() as sess:\n",
        "  result = sess.run(eigen_faces)\n",
        "  show_image(result[0])\n",
        "  show_image(original[0])"
      ],
      "execution_count": 16,
      "outputs": [
        {
          "output_type": "display_data",
          "data": {
            "image/png": "[encoded data removed]",
            "text/plain": [
              "<Figure size 432x288 with 1 Axes>"
            ]
          },
          "metadata": {
            "tags": [],
            "needs_background": "light"
          }
        },
        {
          "output_type": "display_data",
          "data": {
            "image/png": "[encoded data removed]",
            "text/plain": [
              "<Figure size 432x288 with 1 Axes>"
            ]
          },
          "metadata": {
            "tags": [],
            "needs_background": "light"
          }
        }
      ]
    },
    {
      "cell_type": "markdown",
      "metadata": {
        "id": "sxTOXgvD6Ybw"
      },
      "source": [
        "## LIBRARY **PCA**"
      ]
    },
    {
      "cell_type": "code",
      "metadata": {
        "id": "eXMQM56N5q1A"
      },
      "source": [
        "from sklearn.decomposition import PCA"
      ],
      "execution_count": 17,
      "outputs": []
    },
    {
      "cell_type": "code",
      "metadata": {
        "id": "4Ko5PqI-6gpR"
      },
      "source": [
        "def apply_pca(dataset):\n",
        "  pca = PCA(n_components=3)\n",
        "  pca = pca.fit(dataset)\n",
        "  return pca.components_"
      ],
      "execution_count": 18,
      "outputs": []
    },
    {
      "cell_type": "code",
      "metadata": {
        "colab": {
          "base_uri": "https://localhost:8080/",
          "height": 268
        },
        "id": "u9c-TDF867jI",
        "outputId": "da0bd95c-34f6-490c-c753-a4646255ec04"
      },
      "source": [
        "with tf.Session() as sess:\n",
        "  dataset = sess.run(dataset)\n",
        "  result = apply_pca(dataset)\n",
        "  show_image(result[0])"
      ],
      "execution_count": 19,
      "outputs": [
        {
          "output_type": "display_data",
          "data": {
            "image/png": "[encoded data removed]",
            "text/plain": [
              "<Figure size 432x288 with 1 Axes>"
            ]
          },
          "metadata": {
            "tags": [],
            "needs_background": "light"
          }
        }
      ]
    },
    {
      "cell_type": "markdown",
      "metadata": {
        "id": "dKOCFXev-hKP"
      },
      "source": [
        "## MAKASIH MATTHEWW\n",
        "## Sama sama ya xel"
      ]
    },
    {
      "cell_type": "code",
      "metadata": {
        "id": "nllB96Ip-kIV"
      },
      "source": [
        ""
      ],
      "execution_count": null,
      "outputs": []
    }
  ]
}